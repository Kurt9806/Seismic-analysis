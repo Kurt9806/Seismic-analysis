{
  "nbformat": 4,
  "nbformat_minor": 0,
  "metadata": {
    "colab": {
      "name": "Response Spectrum.ipynb",
      "provenance": [],
      "collapsed_sections": [],
      "authorship_tag": "ABX9TyNlreHUc+7jFRnVNVoSad+C",
      "include_colab_link": true
    },
    "kernelspec": {
      "name": "python3",
      "display_name": "Python 3"
    }
  },
  "cells": [
    {
      "cell_type": "markdown",
      "metadata": {
        "id": "view-in-github",
        "colab_type": "text"
      },
      "source": [
        "<a href=\"https://colab.research.google.com/github/Kurt9806/Seismic-analysis/blob/Numerical-Methods/Response_Spectrum.ipynb\" target=\"_parent\"><img src=\"https://colab.research.google.com/assets/colab-badge.svg\" alt=\"Open In Colab\"/></a>"
      ]
    },
    {
      "cell_type": "markdown",
      "metadata": {
        "id": "KL5KhXXeUnOB"
      },
      "source": [
        "# Espectro de Respuesta del Sismo de Pisco 2007"
      ]
    },
    {
      "cell_type": "code",
      "metadata": {
        "id": "GjvGQtRJUmrY"
      },
      "source": [
        "import pandas as pd\r\n",
        "import numpy as np\r\n",
        "import math\r\n",
        "import matplotlib.pyplot as plt"
      ],
      "execution_count": null,
      "outputs": []
    },
    {
      "cell_type": "code",
      "metadata": {
        "id": "OHMpyC_WmVGP"
      },
      "source": [
        "df = pd.read_csv('Acelerograma.csv')"
      ],
      "execution_count": null,
      "outputs": []
    },
    {
      "cell_type": "code",
      "metadata": {
        "colab": {
          "base_uri": "https://localhost:8080/"
        },
        "id": "5LQqogNHVQF0",
        "outputId": "cd5d0240-b087-46f9-a3b5-22ce879851a1"
      },
      "source": [
        "print(df)"
      ],
      "execution_count": null,
      "outputs": [
        {
          "output_type": "stream",
          "text": [
            "            T      EW      NS      UD\n",
            "0        0.00 -0.2015 -0.7075  1.3257\n",
            "1        0.01  0.1538  0.3101 -0.6201\n",
            "2        0.02 -0.4800  0.6862 -2.0637\n",
            "3        0.03 -0.6667  0.2348  0.2742\n",
            "4        0.04  0.3037 -0.1436  3.5169\n",
            "...       ...     ...     ...     ...\n",
            "21802  218.02 -0.3421 -0.1255  0.0157\n",
            "21803  218.03 -0.3353  0.1272 -0.0973\n",
            "21804  218.04 -0.6170 -0.2533 -0.2309\n",
            "21805  218.05 -0.6190 -0.4306 -0.1228\n",
            "21806  218.06 -0.4554 -0.1593 -0.0147\n",
            "\n",
            "[21807 rows x 4 columns]\n"
          ],
          "name": "stdout"
        }
      ]
    },
    {
      "cell_type": "code",
      "metadata": {
        "id": "xjaFnxrTVew2"
      },
      "source": [
        "# Extract data\r\n",
        "t = df['T']\r\n",
        "EW = df['EW']"
      ],
      "execution_count": null,
      "outputs": []
    },
    {
      "cell_type": "code",
      "metadata": {
        "id": "IOHHYiEzWFYM"
      },
      "source": [
        "# Define the function\r\n",
        "def Central_Method(xi,wn,E,k,dt,m,T):\r\n",
        "  a = xi*wn\r\n",
        "  wd = wn*math.sqrt(1-xi**2)\r\n",
        "\r\n",
        "  A = math.e**(-a*dt)*(xi/(math.sqrt(1-xi**2))*math.sin(wd*dt)+math.cos(wd*dt))\r\n",
        "  B = math.e**(-a*dt)*(1/wd*math.sin(wd*dt))\r\n",
        "  C = 1/k*(2*xi/(wn*dt)+math.e**(-a*dt)*(((1-2*xi**2)/(wd*dt)-xi/math.sqrt(1-xi**2))*math.sin(wd*dt)-(1+2*xi/(wn*dt))*math.cos(wd*dt)))\r\n",
        "  D = 1/k*(1-2*xi/(wn*dt)+math.e**(-a*dt)*((2*xi**2-1)/(wd*dt)*math.sin(wd*dt)+2*xi/(wn*dt)*math.cos(wd*dt)))\r\n",
        "  A_ = -math.e**(-a*dt)*(wn/math.sqrt(1-xi**2)*math.sin(wd*dt))\r\n",
        "  B_ = math.e**(-a*dt)*(math.cos(wd*dt)-xi/math.sqrt(1-xi**2)*math.sin(wd*dt))\r\n",
        "  C_ = 1/k*(-1/dt+math.e**(-a*dt)*((wn/math.sqrt(1-xi**2)+xi/(dt*math.sqrt(1-xi**2)))*math.sin(wd*dt)+1/dt*math.cos(wd*dt)))\r\n",
        "  D_ = 1/(k*dt)*(1-math.e**(-a*dt)*(xi/math.sqrt(1-xi**2)*math.sin(wd*dt)+math.cos(wd*dt)))\r\n",
        "\r\n",
        "  u = np.zeros(len(T))\r\n",
        "  u_ = np.zeros(len(T))\r\n",
        "\r\n",
        "  for i in range(len(T)-1):\r\n",
        "    u[i+1] = A*u[i] + B*u_[i] + C*(-m*9.81*E[i]) + D*(-m*9.81*E[i+1])\r\n",
        "    u_[i+1] = A_*u[i] + B_*u_[i] + C_*(-m*9.81*E[i]) + D_*(-m*9.81*E[i+1])\r\n",
        "  \r\n",
        "  return u, u_"
      ],
      "execution_count": null,
      "outputs": []
    },
    {
      "cell_type": "code",
      "metadata": {
        "colab": {
          "base_uri": "https://localhost:8080/"
        },
        "id": "6cAf4sjPVpvk",
        "outputId": "ffba41ae-d1f3-4512-dd48-d950de1d9264"
      },
      "source": [
        "# Input Data\r\n",
        "xi=0.02\r\n",
        "m=1\r\n",
        "dt=t[1]-t[0]\r\n",
        "T = np.transpose(np.arange(0.01,3,dt))\r\n",
        "omega_n = 2*math.pi/T\r\n",
        "K = m*omega_n*omega_n\r\n",
        "\r\n",
        "print(len(T))\r\n",
        "\r\n",
        "# Solve the problem\r\n",
        "D = np.zeros(len(T))\r\n",
        "for j in range(len(T)):\r\n",
        "  wn = omega_n[j]\r\n",
        "  k = K[j]\r\n",
        "  [u, v] = Central_Method(xi,wn,E,k,dt,m,T)\r\n",
        "  D[j]=max(abs(u))\r\n",
        "\r\n",
        "# Calculate the pseudo velocity and psuedo aceleration\r\n",
        "V = omega_n*D\r\n",
        "A = omega_n*omega_n*D"
      ],
      "execution_count": null,
      "outputs": [
        {
          "output_type": "stream",
          "text": [
            "299\n"
          ],
          "name": "stdout"
        }
      ]
    },
    {
      "cell_type": "code",
      "metadata": {
        "colab": {
          "base_uri": "https://localhost:8080/",
          "height": 282
        },
        "id": "WlBGED5RYZVs",
        "outputId": "0fa2be31-3e1c-4b60-8c8e-a957128759a6"
      },
      "source": [
        "# plot figures\r\n",
        "plt.title('Response Espectrum of 2007 Pisco Earthquake')\r\n",
        "plt.subplot(3,1,1)\r\n",
        "plt.plot(T,D)\r\n",
        "plt.subplot(3,1,2)\r\n",
        "plt.plot(T,V)\r\n",
        "plt.subplot(3,1,3)\r\n",
        "plt.plot(T,A)"
      ],
      "execution_count": null,
      "outputs": [
        {
          "output_type": "execute_result",
          "data": {
            "text/plain": [
              "[<matplotlib.lines.Line2D at 0x7f59a7029a58>]"
            ]
          },
          "metadata": {
            "tags": []
          },
          "execution_count": 42
        },
        {
          "output_type": "display_data",
          "data": {
            "image/png": "[encoded data removed]",
            "text/plain": [
              "<Figure size 432x288 with 3 Axes>"
            ]
          },
          "metadata": {
            "tags": [],
            "needs_background": "light"
          }
        }
      ]
    },
    {
      "cell_type": "code",
      "metadata": {
        "id": "zjLJ2OOMZ-1i"
      },
      "source": [
        ""
      ],
      "execution_count": null,
      "outputs": []
    }
  ]
}