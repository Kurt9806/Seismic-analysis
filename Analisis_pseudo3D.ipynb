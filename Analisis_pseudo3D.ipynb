{
  "nbformat": 4,
  "nbformat_minor": 0,
  "metadata": {
    "colab": {
      "name": "Analisis pseudo3D",
      "provenance": [],
      "toc_visible": true,
      "authorship_tag": "ABX9TyP+Zv8AyyoD+pbve71gkOAk",
      "include_colab_link": true
    },
    "kernelspec": {
      "name": "python3",
      "display_name": "Python 3"
    }
  },
  "cells": [
    {
      "cell_type": "markdown",
      "metadata": {
        "id": "view-in-github",
        "colab_type": "text"
      },
      "source": [
        "<a href=\"https://colab.research.google.com/github/Kurt9806/Seismic-analysis/blob/main/Analisis_pseudo3D.ipynb\" target=\"_parent\"><img src=\"https://colab.research.google.com/assets/colab-badge.svg\" alt=\"Open In Colab\"/></a>"
      ]
    },
    {
      "cell_type": "markdown",
      "metadata": {
        "id": "jFFSNQpRQloa"
      },
      "source": [
        "# Analisis Pseudo Tridimensional"
      ]
    },
    {
      "cell_type": "markdown",
      "metadata": {
        "id": "dNXJuubIQp2D"
      },
      "source": [
        "Para utilizar este codigo, se requiere ya realizar el calculo de las rigideces, el calculo de las masas, de los momentos polares y subir una tabla con todos los datos."
      ]
    },
    {
      "cell_type": "code",
      "metadata": {
        "id": "Tnkk28ToQlOU"
      },
      "source": [
        "import pandas as pd\r\n",
        "import numpy as np\r\n",
        "import math"
      ],
      "execution_count": 1,
      "outputs": []
    },
    {
      "cell_type": "code",
      "metadata": {
        "colab": {
          "base_uri": "https://localhost:8080/"
        },
        "id": "MJy8CbMsQRi3",
        "outputId": "e57edbba-ad56-4c7a-a228-7030f15f5fab"
      },
      "source": [
        "df = pd.read_csv('Semana 6.csv')\r\n",
        "print(df)\r\n",
        "print(df.iloc[1,-2])"
      ],
      "execution_count": 7,
      "outputs": [
        {
          "output_type": "stream",
          "text": [
            "  Descripcion            Kl           K11  ...           cos  sen         r\n",
            "0     Port. 1   15095.18411   30190.36822  ...  1.000000e+00    0  5.776107\n",
            "1     Port. 2   15095.18411   30190.36822  ...  1.000000e+00    0 -0.723893\n",
            "2     Port. 3  173091.44450  346182.88890  ...  1.000000e+00    0 -7.223893\n",
            "3     Port. A   15095.18411   30190.36822  ...  6.125740e-17    1 -5.816010\n",
            "4     Port. B   15095.18411   30190.36822  ...  6.125740e-17    1  0.683990\n",
            "5     Port. C  173091.44450  346182.88890  ...  6.125740e-17    1  7.183990\n",
            "\n",
            "[6 rows x 12 columns]\n",
            "0\n"
          ],
          "name": "stdout"
        }
      ]
    },
    {
      "cell_type": "code",
      "metadata": {
        "colab": {
          "base_uri": "https://localhost:8080/"
        },
        "id": "e_uz9y2AQ-3L",
        "outputId": "43aeb8d5-3e63-4d0a-fda7-213fe8aaa2aa"
      },
      "source": [
        "# Codigo de ensamblaje de la matriz de rigidez\r\n",
        "K11 = np.zeros((3,3)); K12=np.zeros((3,3)); K22=np.zeros((3,3));\r\n",
        "\r\n",
        "for i in range(len(df)):\r\n",
        "  k11 = df.iloc[i,2]\r\n",
        "  k12 = df.iloc[i,3]\r\n",
        "  k22 = df.iloc[i,4]\r\n",
        "  sen = df.iloc[i,-2]\r\n",
        "  cos = df.iloc[i,-3]\r\n",
        "  r = df.iloc[i,-1]\r\n",
        "\r\n",
        "  A = np.array([[cos**2, cos*sen, r*cos],[cos*sen, sen**2, r*sen],[r*cos,r*sen,r**2]])\r\n",
        "\r\n",
        "  K11 = K11 + A*k11\r\n",
        "  K12 = K12 + A*k12\r\n",
        "  K22 = K22 + A*k22\r\n",
        "\r\n",
        "KL1 = np.append(K11,K12,axis=1)\r\n",
        "KL2 = np.append(K12,K22,axis=1)\r\n",
        "K = np.append(KL1,KL2,axis=0)\r\n",
        "\r\n",
        "print(K)\r\n",
        "print(K.shape)"
      ],
      "execution_count": 9,
      "outputs": [
        {
          "output_type": "stream",
          "text": [
            "[[ 4.06563625e+05  2.49050306e-11 -2.34826011e+06 -2.03281813e+05\n",
            "  -1.24525153e-11  1.17413006e+06]\n",
            " [ 2.49050306e-11  4.06563625e+05  2.33203673e+06 -1.24525153e-11\n",
            "  -2.03281813e+05 -1.16601837e+06]\n",
            " [-2.34826011e+06  2.33203673e+06  3.79902429e+07  1.17413006e+06\n",
            "  -1.16601837e+06 -1.89951215e+07]\n",
            " [-2.03281813e+05 -1.24525153e-11  1.17413006e+06  2.03281813e+05\n",
            "   1.24525153e-11 -1.17413006e+06]\n",
            " [-1.24525153e-11 -2.03281813e+05 -1.16601837e+06  1.24525153e-11\n",
            "   2.03281813e+05  1.16601837e+06]\n",
            " [ 1.17413006e+06 -1.16601837e+06 -1.89951215e+07 -1.17413006e+06\n",
            "   1.16601837e+06  1.89951215e+07]]\n",
            "(6, 6)\n"
          ],
          "name": "stdout"
        }
      ]
    },
    {
      "cell_type": "code",
      "metadata": {
        "colab": {
          "base_uri": "https://localhost:8080/"
        },
        "id": "RJX0znQaRQjL",
        "outputId": "5514a3ea-bfba-4fae-953f-923ab7a6b9fa"
      },
      "source": [
        "# Calculo de la matriz de masa\r\n",
        "m1 = 14.8010703363914\r\n",
        "m2=13.1741590214067; J=356.884739098682;\r\n",
        "\r\n",
        "M1 = np.array([[m1,0,0],[0,m1,0],[0,0,J]])\r\n",
        "M2 = np.array([[m2,0,0],[0,m2,0],[0,0,J]])\r\n",
        "M11 = np.append(M1,np.zeros((3,3)),axis=1)\r\n",
        "M12 = np.append(np.zeros((3,3)),M2,axis=1)\r\n",
        "M = np.append(M11,M12,axis=0)\r\n",
        "print(M)\r\n",
        "print(M.shape)"
      ],
      "execution_count": 12,
      "outputs": [
        {
          "output_type": "stream",
          "text": [
            "[[ 14.80107034   0.           0.           0.           0.\n",
            "    0.        ]\n",
            " [  0.          14.80107034   0.           0.           0.\n",
            "    0.        ]\n",
            " [  0.           0.         356.8847391    0.           0.\n",
            "    0.        ]\n",
            " [  0.           0.           0.          13.17415902   0.\n",
            "    0.        ]\n",
            " [  0.           0.           0.           0.          13.17415902\n",
            "    0.        ]\n",
            " [  0.           0.           0.           0.           0.\n",
            "  356.8847391 ]]\n",
            "(6, 6)\n"
          ],
          "name": "stdout"
        }
      ]
    },
    {
      "cell_type": "markdown",
      "metadata": {
        "id": "Eayq_g2IWLue"
      },
      "source": [
        "# Analisis Modal"
      ]
    },
    {
      "cell_type": "code",
      "metadata": {
        "colab": {
          "base_uri": "https://localhost:8080/"
        },
        "id": "5wUcjs-3WCVD",
        "outputId": "aca86832-adef-46aa-95a1-cc9cb16ab9dc"
      },
      "source": [
        "from scipy.linalg import eig\r\n",
        "\r\n",
        "l_ambda, X = eig(K,M)\r\n",
        "omega = np.sqrt(l_ambda)\r\n",
        "omega = np.real(omega)\r\n",
        "print(omega)\r\n",
        "print(X)"
      ],
      "execution_count": 13,
      "outputs": [
        {
          "output_type": "stream",
          "text": [
            "[409.31087272 192.87907599 157.09414687  36.96097797  94.83258809\n",
            "  75.47539523]\n",
            "[[ 5.34671770e-01 -5.74906785e-01 -3.09160324e-01  3.75951245e-01\n",
            "  -5.83444702e-01  3.75956650e-01]\n",
            " [-5.30977894e-01 -5.78906263e-01  3.07024434e-01 -3.73353918e-01\n",
            "   5.79413869e-01  3.78572084e-01]\n",
            " [-3.35664041e-01  3.24140159e-14  2.03277787e-01  4.94471063e-02\n",
            "  -7.50701955e-02  4.18423708e-14]\n",
            " [-3.72892409e-01  4.07450508e-01 -5.80077519e-01  5.98142023e-01\n",
            "   3.98389039e-01  5.95978460e-01]\n",
            " [ 3.70316215e-01  4.10285036e-01  5.76069948e-01 -5.94009651e-01\n",
            "  -3.95636697e-01  6.00124528e-01]\n",
            " [ 2.08171512e-01  5.13586500e-14  3.16997665e-01  7.87473886e-02\n",
            "   5.47182915e-02 -2.91069299e-14]]\n"
          ],
          "name": "stdout"
        }
      ]
    },
    {
      "cell_type": "code",
      "metadata": {
        "colab": {
          "base_uri": "https://localhost:8080/"
        },
        "id": "KIgxm0RMWbJa",
        "outputId": "f306c981-d6cb-402d-b5c3-85ceb8d709d4"
      },
      "source": [
        "# Otra forma de mostrar los modos\r\n",
        "T = 2*math.pi/omega\r\n",
        "# Sort the vector matrix and modes to minimum and maximum\r\n",
        "indx = T.argsort(axis=0)\r\n",
        "T = T[indx]\r\n",
        "X = X[ : , indx ]\r\n",
        "\r\n",
        "\r\n",
        "Modos = pd.DataFrame(data=X,columns=T)\r\n",
        "\r\n",
        "print(Modos)\r\n",
        "print(Modos.iloc[:,0])"
      ],
      "execution_count": 18,
      "outputs": [
        {
          "output_type": "stream",
          "text": [
            "   0.015351      0.032576  0.039996      0.066256  0.083248  0.169995\n",
            "0  0.534672 -5.749068e-01 -0.309160  3.759567e-01  0.375951 -0.583445\n",
            "1 -0.530978 -5.789063e-01  0.307024  3.785721e-01 -0.373354  0.579414\n",
            "2 -0.335664  3.241402e-14  0.203278  4.184237e-14  0.049447 -0.075070\n",
            "3 -0.372892  4.074505e-01 -0.580078  5.959785e-01  0.598142  0.398389\n",
            "4  0.370316  4.102850e-01  0.576070  6.001245e-01 -0.594010 -0.395637\n",
            "5  0.208172  5.135865e-14  0.316998 -2.910693e-14  0.078747  0.054718\n",
            "0    0.534672\n",
            "1   -0.530978\n",
            "2   -0.335664\n",
            "3   -0.372892\n",
            "4    0.370316\n",
            "5    0.208172\n",
            "Name: 0.01535064354739582, dtype: float64\n"
          ],
          "name": "stdout"
        }
      ]
    },
    {
      "cell_type": "markdown",
      "metadata": {
        "id": "tyki_ywjYG6G"
      },
      "source": [
        ""
      ]
    },
    {
      "cell_type": "code",
      "metadata": {
        "colab": {
          "base_uri": "https://localhost:8080/"
        },
        "id": "_UDEF0ukWnXS",
        "outputId": "37844c88-a651-4bf4-c597-1ca81c54a3a6"
      },
      "source": [
        "# Calcular el factor de participacion\r\n",
        "FPM = np.zeros((6,6))\r\n",
        "\r\n",
        "for i in range(len(Modos)):\r\n",
        "  phi = Modos.iloc[:,i].to_numpy()\r\n",
        "  Numerator = np.matmul(np.transpose(phi),M)\r\n",
        "  Denominator = np.matmul(np.matmul(np.transpose(phi),M),phi)\r\n",
        "  FPM [:,i] = Numerator/Denominator\r\n",
        "\r\n",
        "print(FPM)\r\n",
        "print(FPM.shape)"
      ],
      "execution_count": 20,
      "outputs": [
        {
          "output_type": "stream",
          "text": [
            "[[ 1.16861485e-01 -5.96841434e-01 -7.35387330e-02  4.08040494e-01\n",
            "   3.35155878e-01 -5.00897868e-01]\n",
            " [-1.16054126e-01 -6.00993506e-01  7.30306774e-02  4.10879127e-01\n",
            "  -3.32840393e-01  4.97437325e-01]\n",
            " [-1.76898365e+00  8.11389207e-13  1.16588890e+00  1.09500633e-12\n",
            "   1.06289668e+00 -1.55400311e+00]\n",
            " [-7.25433267e-02  3.76501034e-01 -1.22814092e-01  5.75739248e-01\n",
            "   4.74623687e-01  3.04429436e-01]\n",
            " [ 7.20421480e-02  3.79120255e-01  1.21965609e-01  5.79744517e-01\n",
            "  -4.71344663e-01 -3.02326230e-01]\n",
            " [ 1.09708505e+00  1.28561220e-12  1.81812320e+00 -7.61722436e-13\n",
            "   1.69272469e+00  1.13270513e+00]]\n",
            "(6, 6)\n"
          ],
          "name": "stdout"
        }
      ]
    },
    {
      "cell_type": "code",
      "metadata": {
        "colab": {
          "base_uri": "https://localhost:8080/"
        },
        "id": "JAZ89B8PYad_",
        "outputId": "b850d514-4c04-4901-ec33-80fefd11eb9a"
      },
      "source": [
        "# Calculando la pseudo aceleracion\r\n",
        "Sa = [0.546971167,0.610338114,0.637636389,0.734237605,0.796749058,1.115869474]\r\n",
        "Sd = Sa/omega**2\r\n",
        "print(Sd)"
      ],
      "execution_count": 24,
      "outputs": [
        {
          "output_type": "stream",
          "text": [
            "[3.26480969e-06 1.64059075e-05 2.58376544e-05 5.37464416e-04\n",
            " 8.85944166e-05 1.95885642e-04]\n"
          ],
          "name": "stdout"
        }
      ]
    },
    {
      "cell_type": "code",
      "metadata": {
        "colab": {
          "base_uri": "https://localhost:8080/"
        },
        "id": "MOxdFBOAbyBI",
        "outputId": "5f81cc88-e3d6-440e-925f-f50389c0e2fa"
      },
      "source": [
        "# Vector de desplazamiento \r\n",
        "# En X\r\n",
        "X_x = Modos.iloc[0:4,:].to_numpy()\r\n",
        "X_x = np.delete(X_x,(1,2),axis=0)\r\n",
        "X_x = np.transpose(X_x)\r\n",
        "FPM_x = np.delete(FPM[0:4,:],(1,2),axis=0)\r\n",
        "FPM_x = np.transpose(FPM_x)\r\n",
        "\r\n",
        "# Calcular los desplazamientos por piso y por modo\r\n",
        "u = np.array([FPM_x[j]*Sd[j]*X_x[j] for j in range(len(X_x))])\r\n",
        "\r\n",
        "# Combinarlo \r\n",
        "u_abs = 0.25*u.sum(axis=0) + 0.75*np.sum(u**2, axis=0)\r\n",
        "print(u_abs)\r\n",
        "\r\n",
        "# Desplazamientos relativos\r\n",
        "u_rel = np.append([u_abs[0]],np.diff(u_abs))\r\n",
        "print(u_rel)\r\n",
        "\r\n",
        "# Verificacion segun la norma\r\n",
        "delta_max = 0.007*3.5\r\n",
        "Verif = [u_rel>=delta_max]\r\n",
        "print(Verif)"
      ],
      "execution_count": 32,
      "outputs": [
        {
          "output_type": "stream",
          "text": [
            "[3.93278489e-05 5.94697973e-05]\n",
            "[3.93278489e-05 2.01419484e-05]\n",
            "[array([False, False])]\n"
          ],
          "name": "stdout"
        }
      ]
    },
    {
      "cell_type": "code",
      "metadata": {
        "colab": {
          "base_uri": "https://localhost:8080/"
        },
        "id": "KQ3GNaxodE5H",
        "outputId": "524afbf9-7062-4b5a-d9fe-bc2bd9d59e14"
      },
      "source": [
        "# Cortante por piso\r\n",
        "# En X \r\n",
        "Mp = [m1,m2]\r\n",
        "print(Mp)\r\n",
        "\r\n",
        "V = np.array([FPM_x[j]*Sa[j]*X_x[j]*Mp for j in range(len(X_x))])\r\n",
        "#Combinacion\r\n",
        "V_abs = 0.25*u.sum(axis=0) + 0.75*np.sum(u**2, axis=0)\r\n",
        "print(V_abs)"
      ],
      "execution_count": 35,
      "outputs": [
        {
          "output_type": "stream",
          "text": [
            "[14.8010703363914, 13.1741590214067]\n",
            "[3.93278489e-05 5.94697973e-05]\n"
          ],
          "name": "stdout"
        }
      ]
    },
    {
      "cell_type": "code",
      "metadata": {
        "id": "RzOSCbMHfXqB"
      },
      "source": [
        ""
      ],
      "execution_count": null,
      "outputs": []
    }
  ]
}